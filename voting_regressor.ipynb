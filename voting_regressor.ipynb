{
  "nbformat": 4,
  "nbformat_minor": 0,
  "metadata": {
    "colab": {
      "name": "voting-regressor.ipynb",
      "provenance": []
    },
    "kernelspec": {
      "name": "python3",
      "display_name": "Python 3"
    }
  },
  "cells": [
    {
      "cell_type": "code",
      "metadata": {
        "id": "Ss-cQIY42Bws"
      },
      "source": [
        "from sklearn.datasets import load_boston\r\n",
        "import numpy as np"
      ],
      "execution_count": 1,
      "outputs": []
    },
    {
      "cell_type": "code",
      "metadata": {
        "id": "L82355oG2MVV"
      },
      "source": [
        "X,y = load_boston(return_X_y=True)"
      ],
      "execution_count": 2,
      "outputs": []
    },
    {
      "cell_type": "code",
      "metadata": {
        "colab": {
          "base_uri": "https://localhost:8080/"
        },
        "id": "zGYaqrzb2RGg",
        "outputId": "2e1090cf-b1ec-4b9f-e959-2cfbfa9d8d4c"
      },
      "source": [
        "X.shape"
      ],
      "execution_count": 3,
      "outputs": [
        {
          "output_type": "execute_result",
          "data": {
            "text/plain": [
              "(506, 13)"
            ]
          },
          "metadata": {
            "tags": []
          },
          "execution_count": 3
        }
      ]
    },
    {
      "cell_type": "code",
      "metadata": {
        "colab": {
          "base_uri": "https://localhost:8080/"
        },
        "id": "4BaylTL92SUJ",
        "outputId": "81e72b11-c9cc-49ae-ca42-0536e5d924fc"
      },
      "source": [
        "y.shape"
      ],
      "execution_count": 4,
      "outputs": [
        {
          "output_type": "execute_result",
          "data": {
            "text/plain": [
              "(506,)"
            ]
          },
          "metadata": {
            "tags": []
          },
          "execution_count": 4
        }
      ]
    },
    {
      "cell_type": "code",
      "metadata": {
        "colab": {
          "base_uri": "https://localhost:8080/"
        },
        "id": "rwgnJR1v2TVe",
        "outputId": "90ce5a18-14ad-410b-f5ad-33d83cabca25"
      },
      "source": [
        "X"
      ],
      "execution_count": 5,
      "outputs": [
        {
          "output_type": "execute_result",
          "data": {
            "text/plain": [
              "array([[6.3200e-03, 1.8000e+01, 2.3100e+00, ..., 1.5300e+01, 3.9690e+02,\n",
              "        4.9800e+00],\n",
              "       [2.7310e-02, 0.0000e+00, 7.0700e+00, ..., 1.7800e+01, 3.9690e+02,\n",
              "        9.1400e+00],\n",
              "       [2.7290e-02, 0.0000e+00, 7.0700e+00, ..., 1.7800e+01, 3.9283e+02,\n",
              "        4.0300e+00],\n",
              "       ...,\n",
              "       [6.0760e-02, 0.0000e+00, 1.1930e+01, ..., 2.1000e+01, 3.9690e+02,\n",
              "        5.6400e+00],\n",
              "       [1.0959e-01, 0.0000e+00, 1.1930e+01, ..., 2.1000e+01, 3.9345e+02,\n",
              "        6.4800e+00],\n",
              "       [4.7410e-02, 0.0000e+00, 1.1930e+01, ..., 2.1000e+01, 3.9690e+02,\n",
              "        7.8800e+00]])"
            ]
          },
          "metadata": {
            "tags": []
          },
          "execution_count": 5
        }
      ]
    },
    {
      "cell_type": "code",
      "metadata": {
        "id": "5h38RPz82UFN"
      },
      "source": [
        "from sklearn.linear_model import LinearRegression\r\n",
        "from sklearn.tree import DecisionTreeRegressor\r\n",
        "from sklearn.svm import SVR\r\n",
        "from sklearn.model_selection import cross_val_score"
      ],
      "execution_count": 23,
      "outputs": []
    },
    {
      "cell_type": "code",
      "metadata": {
        "id": "gnftFxxS2mHq"
      },
      "source": [
        "lr = LinearRegression()\r\n",
        "dt = DecisionTreeRegressor()\r\n",
        "svr = SVR()"
      ],
      "execution_count": 24,
      "outputs": []
    },
    {
      "cell_type": "code",
      "metadata": {
        "id": "8OzpSAXh2s_y"
      },
      "source": [
        "estimators = [('lr',lr),('dt',dt),('svr',svr)]"
      ],
      "execution_count": 25,
      "outputs": []
    },
    {
      "cell_type": "code",
      "metadata": {
        "colab": {
          "base_uri": "https://localhost:8080/"
        },
        "id": "4g8F5nQE20B2",
        "outputId": "c110e28e-91d3-40e8-9a27-ddd6fb0d2d16"
      },
      "source": [
        "for estimator in estimators:\r\n",
        "  scores = cross_val_score(estimator[1],X,y,scoring='r2',cv=10)\r\n",
        "  print(estimator[0],np.round(np.mean(scores),2))"
      ],
      "execution_count": 26,
      "outputs": [
        {
          "output_type": "stream",
          "text": [
            "lr 0.2\n",
            "dt -0.08\n",
            "svr -0.41\n"
          ],
          "name": "stdout"
        }
      ]
    },
    {
      "cell_type": "code",
      "metadata": {
        "id": "2ADqXH8s3JHe"
      },
      "source": [
        "from sklearn.ensemble import VotingRegressor"
      ],
      "execution_count": 15,
      "outputs": []
    },
    {
      "cell_type": "code",
      "metadata": {
        "colab": {
          "base_uri": "https://localhost:8080/"
        },
        "id": "45lcgrE83eDK",
        "outputId": "18c72045-1b49-4f44-866e-5c11fa825c8b"
      },
      "source": [
        "vr = VotingRegressor(estimators)\r\n",
        "scores = cross_val_score(vr,X,y,scoring='r2',cv=10)\r\n",
        "print(\"Voting Regressor\",np.round(np.mean(scores),2))"
      ],
      "execution_count": 27,
      "outputs": [
        {
          "output_type": "stream",
          "text": [
            "Voting Regressor 0.41\n"
          ],
          "name": "stdout"
        }
      ]
    },
    {
      "cell_type": "code",
      "metadata": {
        "colab": {
          "base_uri": "https://localhost:8080/"
        },
        "id": "uKeZQxsY3qG1",
        "outputId": "7814cfb7-2c5b-4db9-8f40-cdf2ed797df6"
      },
      "source": [
        "for i in range(1,4):\r\n",
        "  for j in range(1,4):\r\n",
        "    for k in range(1,4):\r\n",
        "      vr = VotingRegressor(estimators,weights=[i,j,k])\r\n",
        "      scores = cross_val_score(vr,X,y,scoring='r2',cv=10)\r\n",
        "      print(\"For i={},j={},k={}\".format(i,j,k),np.round(np.mean(scores),2))\r\n"
      ],
      "execution_count": 29,
      "outputs": [
        {
          "output_type": "stream",
          "text": [
            "For i=1,j=1,k=1 0.45\n",
            "For i=1,j=1,k=2 0.37\n",
            "For i=1,j=1,k=3 0.26\n",
            "For i=1,j=2,k=1 0.43\n",
            "For i=1,j=2,k=2 0.39\n",
            "For i=1,j=2,k=3 0.34\n",
            "For i=1,j=3,k=1 0.38\n",
            "For i=1,j=3,k=2 0.39\n",
            "For i=1,j=3,k=3 0.31\n",
            "For i=2,j=1,k=1 0.47\n",
            "For i=2,j=1,k=2 0.41\n",
            "For i=2,j=1,k=3 0.36\n",
            "For i=2,j=2,k=1 0.45\n",
            "For i=2,j=2,k=2 0.45\n",
            "For i=2,j=2,k=3 0.4\n",
            "For i=2,j=3,k=1 0.38\n",
            "For i=2,j=3,k=2 0.45\n",
            "For i=2,j=3,k=3 0.4\n",
            "For i=3,j=1,k=1 0.43\n",
            "For i=3,j=1,k=2 0.43\n",
            "For i=3,j=1,k=3 0.37\n",
            "For i=3,j=2,k=1 0.46\n",
            "For i=3,j=2,k=2 0.46\n",
            "For i=3,j=2,k=3 0.43\n",
            "For i=3,j=3,k=1 0.45\n",
            "For i=3,j=3,k=2 0.46\n",
            "For i=3,j=3,k=3 0.46\n"
          ],
          "name": "stdout"
        }
      ]
    },
    {
      "cell_type": "code",
      "metadata": {
        "id": "xln9JLUh4bMA"
      },
      "source": [
        "# using the same algorithm\r\n",
        "\r\n",
        "dt1 = DecisionTreeRegressor(max_depth=1)\r\n",
        "dt2 = DecisionTreeRegressor(max_depth=3)\r\n",
        "dt3 = DecisionTreeRegressor(max_depth=5)\r\n",
        "dt4 = DecisionTreeRegressor(max_depth=7)\r\n",
        "dt5 = DecisionTreeRegressor(max_depth=None)"
      ],
      "execution_count": 34,
      "outputs": []
    },
    {
      "cell_type": "code",
      "metadata": {
        "id": "TMNFLtcZ45ZR"
      },
      "source": [
        "estimators = [('dt1',dt1),('dt2',dt2),('dt3',dt3),('dt4',dt4),('dt5',dt5)]"
      ],
      "execution_count": 35,
      "outputs": []
    },
    {
      "cell_type": "code",
      "metadata": {
        "colab": {
          "base_uri": "https://localhost:8080/"
        },
        "id": "OoNnadMV5PKk",
        "outputId": "618aa32c-b37c-4ab8-a0a1-d20b1e98ab88"
      },
      "source": [
        "for estimator in estimators:\r\n",
        "  scores = cross_val_score(estimator[1],X,y,scoring='r2',cv=10)\r\n",
        "  print(estimator[0],np.round(np.mean(scores),2))"
      ],
      "execution_count": 36,
      "outputs": [
        {
          "output_type": "stream",
          "text": [
            "dt1 -0.85\n",
            "dt2 -0.13\n",
            "dt3 -0.04\n",
            "dt4 -0.19\n",
            "dt5 -0.1\n"
          ],
          "name": "stdout"
        }
      ]
    },
    {
      "cell_type": "code",
      "metadata": {
        "colab": {
          "base_uri": "https://localhost:8080/"
        },
        "id": "dxFmVW2A5EDR",
        "outputId": "8fbdbe55-1ba9-4e15-f3e4-e6d1b9cd98ad"
      },
      "source": [
        "vr = VotingRegressor(estimators)\r\n",
        "scores = cross_val_score(vr,X,y,scoring='r2',cv=10)\r\n",
        "print(\"Voting Regressor\",np.round(np.mean(scores),2))"
      ],
      "execution_count": 37,
      "outputs": [
        {
          "output_type": "stream",
          "text": [
            "Voting Regressor 0.17\n"
          ],
          "name": "stdout"
        }
      ]
    },
    {
      "cell_type": "code",
      "metadata": {
        "id": "xCNX58b95KfF"
      },
      "source": [
        ""
      ],
      "execution_count": null,
      "outputs": []
    }
  ]
}